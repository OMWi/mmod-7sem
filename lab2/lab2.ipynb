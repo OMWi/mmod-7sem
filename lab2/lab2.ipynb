{
 "cells": [
  {
   "cell_type": "markdown",
   "metadata": {},
   "source": [
    "### Task 1"
   ]
  },
  {
   "cell_type": "code",
   "execution_count": 67,
   "metadata": {},
   "outputs": [],
   "source": [
    "import math\n",
    "import numpy as np\n",
    "from matplotlib import pyplot\n",
    "from numpy import mean, var, std\n",
    "from scipy import stats\n",
    "from collections import Counter, OrderedDict\n",
    "import random\n",
    "from pprint import pprint\n",
    "import random\n",
    "import scipy.special\n",
    "\n",
    "\n",
    "def chi_square_test(observed, expected, alpha, dof):\n",
    "    result = 0\n",
    "    for i in range(len(observed)):\n",
    "        result = float(result) + (expected[i] - observed[i]) ** 2 / float(expected[i])\n",
    "    result *= len(observed)\n",
    "    critical_value = stats.chi2.ppf(1 - alpha, dof)\n",
    "    print(f'CHI-square test')\n",
    "    print(f'result = {result}')\n",
    "    print(f'critical value = {critical_value}')\n",
    "    if result < critical_value:\n",
    "        print(f'{result} < {critical_value}; pass')\n",
    "    else:\n",
    "        print(f'{result} > {critical_value}; fail')\n",
    "    return result, result < critical_value\n",
    "\n",
    "\n",
    "def get_interval_mu(gamma, mu, sigma, n):\n",
    "    t = stats.t.ppf(gamma, n - 1)\n",
    "    delta = t * sigma / np.sqrt(n)\n",
    "    return mu - delta, mu + delta\n",
    "\n",
    "\n",
    "def get_interval_sigma(gamma, sigma, n):\n",
    "    alpha1 = (1 - gamma) / 2.0\n",
    "    alpha2 = (1 + gamma) / 2.0\n",
    "\n",
    "    right_border = np.sqrt((n - 1) / stats.chi2.ppf(alpha1, n - 1)) * sigma\n",
    "    left_border = np.sqrt((n - 1) / stats.chi2.ppf(alpha2, n - 1)) * sigma\n",
    "\n",
    "    return left_border, right_border"
   ]
  },
  {
   "cell_type": "markdown",
   "metadata": {},
   "source": [
    "### Экспоненциальное распределение"
   ]
  },
  {
   "cell_type": "code",
   "execution_count": 68,
   "metadata": {},
   "outputs": [
    {
     "name": "stdout",
     "output_type": "stream",
     "text": [
      "Экспоненциальное распределение:\n",
      "Математическое ожидание:  1.0008022525531708\n",
      "Дисперсия:  1.0025973185749686\n",
      "Среднеквадратичное отклонение: 1.0012978171228422\n",
      "\n",
      "Доверительная вероятность == 0.99\n",
      "Доверительный интервал Мат. ожидания:  0.9934 < mu <  1.0082\n",
      "Доверительный интервал СКО:  0.9956 < sigma <  1.0071\n",
      "\n",
      "CHI-square test\n",
      "result = 9.7027749147036\n",
      "critical value = 246.09465845289168\n",
      "9.7027749147036 < 246.09465845289168; pass\n"
     ]
    },
    {
     "data": {
      "image/png": "[encoded data removed]",
      "text/plain": [
       "<Figure size 640x480 with 1 Axes>"
      ]
     },
     "metadata": {},
     "output_type": "display_data"
    }
   ],
   "source": [
    "def exponential_numbers(L, size):\n",
    "    numbers = [random.random() for _ in range(size)]\n",
    "    array = []\n",
    "    for num in numbers:\n",
    "        if 1 - num > 0:\n",
    "            array.append(((-1) / L) * (math.log(1 - num)))\n",
    "    return array\n",
    "\n",
    "\n",
    "def exponential_f(l, x):\n",
    "    return l * np.exp(-l * x)\n",
    "\n",
    "\n",
    "def get_exponential_expected(size, l, arguments):\n",
    "    expected = []\n",
    "    for i in range(size):\n",
    "        expected.append(exponential_f(l, arguments[i]))\n",
    "\n",
    "    return expected\n",
    "\n",
    "\n",
    "def exponential_distribution():\n",
    "    L = 1\n",
    "    size = 10 ** 5\n",
    "    exp = exponential_numbers(L, size)\n",
    "    exp_m = mean(exp)\n",
    "    exp_v = var(exp)\n",
    "    exp_s = std(exp)\n",
    "    probabilities, intervals, _ = pyplot.hist(exp, bins=200, density=True)\n",
    "    intervals = intervals[1:]\n",
    "    expected = get_exponential_expected(len(probabilities), L, intervals)\n",
    "    pyplot.title(\"Экспоненциальное распределение:\")\n",
    "    print(\"Экспоненциальное распределение:\")\n",
    "    print(\"Математическое ожидание: \", exp_m)\n",
    "    print(\"Дисперсия: \", exp_v)\n",
    "    print(f\"Среднеквадратичное отклонение: {exp_s}\\n\")\n",
    "    gamma = 0.99\n",
    "    print(f'Доверительная вероятность == {gamma}')\n",
    "    mu_left_border, mu_right_border = get_interval_mu(gamma, exp_m, exp_s, size)\n",
    "    print(f'Доверительный интервал Мат. ожидания: {mu_left_border : .4f} < mu < {mu_right_border : .4f}')\n",
    "    sigma_left_border, sigma_right_border = get_interval_sigma(gamma, exp_s, size)\n",
    "    print(f'Доверительный интервал СКО: {sigma_left_border : .4f} < sigma < {sigma_right_border : .4f}\\n')\n",
    "    chi_square_test(probabilities, expected, 0.01, len(intervals) - 3)\n",
    "\n",
    "exponential_distribution()\n",
    "pyplot.show()"
   ]
  },
  {
   "cell_type": "markdown",
   "metadata": {},
   "source": [
    "### Task 2(16)"
   ]
  },
  {
   "cell_type": "markdown",
   "metadata": {},
   "source": [
    "Хи-квадрат"
   ]
  },
  {
   "cell_type": "code",
   "execution_count": 70,
   "metadata": {},
   "outputs": [
    {
     "name": "stdout",
     "output_type": "stream",
     "text": [
      "Хи-квадрат дискретное распределение:\n",
      "Математическое ожидание:  3.627565085629211\n",
      "Дисперсия:  6.155160159805953\n",
      "Среднеквадратичное отклонение: 2.4809595240160514\n",
      "\n",
      "Доверительная вероятность == 0.99\n",
      "Доверительный интервал Мат. ожидания:  3.6218 < mu <  3.6333\n",
      "Доверительный интервал СКО:  2.4764 < sigma <  2.4855\n",
      "\n",
      "CHI-square test\n",
      "result = 15.361043104044088\n",
      "critical value = 49.58788447289881\n",
      "15.361043104044088 < 49.58788447289881; pass\n"
     ]
    },
    {
     "data": {
      "image/png": "[encoded data removed]",
      "text/plain": [
       "<Figure size 640x480 with 1 Axes>"
      ]
     },
     "metadata": {},
     "output_type": "display_data"
    }
   ],
   "source": [
    "def get_chi_intervals(a, b, n, v):\n",
    "    if v <= 0 or not isinstance(v, int):\n",
    "        raise ValueError('v parameter must be positive integer')\n",
    "    points = {}\n",
    "    for i in range(n):\n",
    "        x_i = a + i * (b - a) / n\n",
    "        x_i2 = a + (i + 1) * (b - a) / n\n",
    "        y = scipy.special.gammainc(v/2, x_i / 2)\n",
    "        y_2 = scipy.special.gammainc(v/2, x_i2 / 2)\n",
    "        points[x_i] = y_2 - y\n",
    "    return points\n",
    "\n",
    "def get_chi_values(a, b, n, v, intervals):\n",
    "    x = [random.random()  for _ in range(n)]\n",
    "    arguments = list(intervals.keys())\n",
    "    arguments.sort()\n",
    "    res = []\n",
    "    for i in range(len(x)):\n",
    "        generated_number =  x[i]\n",
    "        s = 0 \n",
    "        for j in range(len(arguments)):\n",
    "            s += intervals[arguments[j]]\n",
    "            if  generated_number < s:\n",
    "                res.append(arguments[j])\n",
    "                break\n",
    "    return res\n",
    "\n",
    "def chi_distribution():\n",
    "    a, b, v_param = 0, 12, 4\n",
    "    discrete_size, size = 32, 10**6\n",
    "    intervals = get_chi_intervals(a, b, discrete_size, v_param)\n",
    "    numbers = get_chi_values(a, b, size, v_param, intervals)\n",
    "    m = mean(numbers)\n",
    "    v = var(numbers)\n",
    "    s = std(numbers)\n",
    "    observed_values = OrderedDict({k: v / size for k, v in Counter(numbers).items()})\n",
    "    pyplot.bar(\n",
    "        observed_values.keys(),\n",
    "        observed_values.values(),\n",
    "        facecolor='#2ab0ff',\n",
    "        edgecolor='#000000',\n",
    "        width=2 / discrete_size\n",
    "    )\n",
    "    expected = list(intervals.values())\n",
    "    pyplot.title(\"Хи-квадрат дискретное распределение\")\n",
    "    print(\"Хи-квадрат дискретное распределение:\")\n",
    "    print(\"Математическое ожидание: \", m)\n",
    "    print(\"Дисперсия: \", v)\n",
    "    print(f\"Среднеквадратичное отклонение: {s}\\n\")\n",
    "    gamma = 0.99\n",
    "    print(f'Доверительная вероятность == {gamma}')\n",
    "    mu_left_border, mu_right_border = get_interval_mu(gamma, m, s, size)\n",
    "    print(f'Доверительный интервал Мат. ожидания: {mu_left_border : .4f} < mu < {mu_right_border : .4f}')\n",
    "    sigma_left_border, sigma_right_border = get_interval_sigma(gamma, s, size)\n",
    "    print(f'Доверительный интервал СКО: {sigma_left_border : .4f} < sigma < {sigma_right_border : .4f}\\n')\n",
    "    chi_square_test(list(observed_values.values()), expected, 0.01, len(observed_values) - 3)\n",
    "    pyplot.show()\n",
    "\n",
    "chi_distribution()"
   ]
  }
 ],
 "metadata": {
  "kernelspec": {
   "display_name": "Python 3.10.5 64-bit",
   "language": "python",
   "name": "python3"
  },
  "language_info": {
   "codemirror_mode": {
    "name": "ipython",
    "version": 3
   },
   "file_extension": ".py",
   "mimetype": "text/x-python",
   "name": "python",
   "nbconvert_exporter": "python",
   "pygments_lexer": "ipython3",
   "version": "3.10.5"
  },
  "orig_nbformat": 4,
  "vscode": {
   "interpreter": {
    "hash": "d935e847361d9a71d50cc92e802af2d7608ca52ef03f1ee464528dc4542ca60b"
   }
  }
 },
 "nbformat": 4,
 "nbformat_minor": 2
}
