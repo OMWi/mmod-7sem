{
 "cells": [
  {
   "cell_type": "markdown",
   "id": "70df0866",
   "metadata": {},
   "source": [
    "# Лабoраторная работа 5\n",
    "## Белоцкий Дмитрий 853504 (16 вариант)\n",
    "# Система массового обслуживания"
   ]
  },
  {
   "cell_type": "markdown",
   "id": "da94d98d",
   "metadata": {},
   "source": [
    "## Условие\n",
    "![](task16.png)"
   ]
  },
  {
   "cell_type": "markdown",
   "id": "e0de7120",
   "metadata": {},
   "source": [
    "Интенсивоность: $\\lambda$ = X  <br>\n",
    "Время обслуживания - показательное распределение с параметром X. <br>$\\mu$ = X, => среднее время обслуживания 1 / X"
   ]
  },
  {
   "cell_type": "markdown",
   "id": "ba2cc079",
   "metadata": {},
   "source": [
    "## Решение\n",
    "$s_0$ - СМО свободна <br/>\n",
    "$s_1$ - занят один канал <br/>\n",
    "$s_k$ - занято k каналов (1 <= k <= n) <br/>\n",
    "$s_n$ - заняты все n каналов <br/>\n",
    "$s_{n+r}$ - заняты все n каналов, а r заявое стоит в очереди <br/>\n",
    "Граф состояний приведен ниже\n",
    "![](state_graph.png)\n",
    "где интенсивность потока обслуживаний $\\widetilde{\\mu} = p\\mu$ = pX <br/>\n",
    "Тогда $\\widetilde{p}$ = $\\lambda$ / $\\widetilde{\\mu}$ = $\\lambda$ / $p\\mu$ = X / pX = 1 / p <br/>\n",
    "Условие установления предельного страционарного режима: $\\widetilde{p}$ <= n (выберем значение. n подходящим под данное условие)"
   ]
  },
  {
   "cell_type": "markdown",
   "id": "28c5128f",
   "metadata": {},
   "source": [
    "##  Финальные вероятности состояний\n",
    "Финальные вероятности состояний выражаются следующими формулами\n",
    "![](final_probabilities.png)\n",
    "Только в нашем случае: <br/> p -> $\\widetilde{p}$ = 1 / p <br/> $\\chi$ = $\\widetilde{p}$ / n = 1 / np"
   ]
  },
  {
   "cell_type": "markdown",
   "id": "e9b99e77",
   "metadata": {},
   "source": [
    "### Найдем вероятности состояния системы:\n"
   ]
  },
  {
   "cell_type": "code",
   "execution_count": 51,
   "id": "c9bb674f",
   "metadata": {},
   "outputs": [],
   "source": [
    "import math\n",
    "\n",
    "p = 0.1 # probability of accept\n",
    "n = 4\n",
    "\n",
    "p_tilde = 1 / p\n",
    "chi = p_tilde / n\n",
    "\n",
    "def p_0(p_tilde, chi, n):\n",
    "    result = 1\n",
    "    for i in range(1, n + 1):\n",
    "        result += (p_tilde ** i / math.factorial(i))\n",
    "    result += (p_tilde ** (n + 1) / (n * math.factorial(n))) * (1 / (1 - chi))\n",
    "    return 1 / result\n",
    "    \n",
    "def p_k(p_tilde, k, p_0):\n",
    "    return p_tilde ** k * p_0 / math.factorial(k)\n",
    "\n",
    "def p_n_r(p_tilde, n, r, p_0):\n",
    "    return p_tilde ** (n + r) * p_0 / (n ** r * math.factorial(n))\n",
    "    \n",
    "\n",
    "def calculate_probabilities(p_tilde, chi, n, size):\n",
    "    if(size < n):\n",
    "        print('Стоит выбрать размер больше n')\n",
    "        return\n",
    "    p_list = []\n",
    "    _p_0 = p_0(p_tilde, chi, n)\n",
    "    p_list.append(_p_0)\n",
    "    for k in range(1, n + 1):\n",
    "        p_list.append(p_k(p_tilde, k, _p_0))\n",
    "    for r in range(1, size - n + 1):\n",
    "        p_list.append(p_n_r(p_tilde, n, r, _p_0))\n",
    "    return p_list"
   ]
  },
  {
   "cell_type": "code",
   "execution_count": 52,
   "id": "89d5997c",
   "metadata": {},
   "outputs": [
    {
     "name": "stdout",
     "output_type": "stream",
     "text": [
      "Условие установления предельного страционарного режима не выполнено\n"
     ]
    }
   ],
   "source": [
    "size = 12\n",
    "\n",
    "if chi <= 1:\n",
    "    p_list = calculate_probabilities(p_tilde, chi, n, size)\n",
    "    for i in range(size):\n",
    "        print(f'p[{i}] :  {p_list[i]}')\n",
    "    print(f'sum : {sum(p_list)}')\n",
    "else:\n",
    "    print('Условие установления предельного страционарного режима не выполнено')"
   ]
  },
  {
   "cell_type": "markdown",
   "id": "d0c6ace0",
   "metadata": {},
   "source": [
    "##  Характеристики эффективности СМО\n",
    "1) Одним из наиболее важных показателей эффективности системы массового обслуживания является величина Ротк — вероятность того, что поступающее в систему требование отказывается присоединиться к очереди и теряется. В данном случае $$ P_{отк} = 0 $$ т.к. имеем неограниченную очередь (Данный показатель не имеет особого смысла для нашей системы) <br/>\n",
    "2) Вторым важным показателем эффективности, относящимся к первой группе, является среднее количество требований, ожидающих обслуживания, — $ М_{ож} $. \n",
    "![](m_waiting.png)\n",
    "Среднее количество требований, находящихся в системе обслуживания как в очереди, так и на обслуживании, можно найти по формуле\n",
    "![](m_all.png)"
   ]
  },
  {
   "cell_type": "code",
   "execution_count": 32,
   "id": "79472bff",
   "metadata": {},
   "outputs": [
    {
     "name": "stdout",
     "output_type": "stream",
     "text": [
      "среднее количество заявок в очереди:  0.24345805973046594\n",
      "среднее количество заявок в системе:  1.7393317002179773\n",
      "среднее количество заявок в обслуживании :  1.4958736404875115\n",
      "среднее количество занятых каналов:  1.6665115065134044\n",
      "Дисперсионный момент :  1.4956624462655248\n",
      "среднее количество свободных каналов:  2.3334884934865956\n",
      "Коэффициент загрузки оборудования:  0.4166278766283511\n",
      "Коэффициент простоя оборудования:  0.5833721233716489\n"
     ]
    }
   ],
   "source": [
    "def m_waiting(n, p_list):\n",
    "    m = 0\n",
    "    for i in range(n + 1, len(p_list)):\n",
    "        m += i * p_list[i]\n",
    "    return m\n",
    "        \n",
    "def m_all(n, p_list):\n",
    "    m = 0\n",
    "    for i in range(len(p_list)):\n",
    "        m += i * p_list[i]\n",
    "    return m\n",
    "\n",
    "def mean_busy_channels(n, p_list):\n",
    "    m = 0\n",
    "    for i in range(n + 1):\n",
    "        m += i * p_list[i]\n",
    "    for i in range(n + 1, len(p_list)):\n",
    "        m += n * p_list[i]\n",
    "    return m\n",
    "\n",
    "def mean_free_channels(n, p_list):\n",
    "    return n - mean_busy_channels(n, p_list)\n",
    "\n",
    "def dispersion_busy_chaneels(n, p_list):\n",
    "    mean = mean_busy_channels(n, p_list)\n",
    "    d = 0\n",
    "    for i in range(n + 1):\n",
    "        d += p_list[i] * (i - mean) ** 2\n",
    "    for i in range(n + 1, len(p_list)):\n",
    "        d += p_list[i] * (n - mean) ** 2\n",
    "    return d\n",
    "\n",
    "\n",
    "print('среднее количество заявок в очереди: ', m_waiting(n, p_list))\n",
    "print('среднее количество заявок в системе: ', m_all(n, p_list))\n",
    "print('среднее количество заявок в обслуживании : ', m_all(n, p_list) - m_waiting(n, p_list))\n",
    "\n",
    "print('среднее количество занятых каналов: ', mean_busy_channels(n, p_list))\n",
    "print('Дисперсионный момент : ', dispersion_busy_chaneels(n, p_list))\n",
    "print('среднее количество свободных каналов: ', mean_free_channels(n, p_list))\n",
    "print('Коэффициент загрузки оборудования: ', mean_busy_channels(n, p_list) / n)\n",
    "print('Коэффициент простоя оборудования: ', mean_free_channels(n, p_list) / n)"
   ]
  },
  {
   "cell_type": "markdown",
   "id": "68b80f51",
   "metadata": {},
   "source": [
    "Для оценки среднего времени ожидания в системе зададим значение X"
   ]
  },
  {
   "cell_type": "code",
   "execution_count": 33,
   "id": "76cb499f",
   "metadata": {},
   "outputs": [
    {
     "name": "stdout",
     "output_type": "stream",
     "text": [
      "Среднее время разрешения заявки:  0.3333333333333333\n",
      "Среднее время нахождения в очереди:  0.08115268657682198\n",
      "Среднее время нахождения в системе:  0.4144860199101553\n"
     ]
    }
   ],
   "source": [
    "X = 3\n",
    "mean_t = 1 / X\n",
    "print('Среднее время разрешения заявки: ', mean_t)\n",
    "print('Среднее время нахождения в очереди: ', mean_t * m_waiting(n, p_list))\n",
    "print('Среднее время нахождения в системе: ', mean_t + mean_t * m_waiting(n, p_list))"
   ]
  },
  {
   "cell_type": "markdown",
   "id": "9af26676",
   "metadata": {},
   "source": [
    "##  Среднее число рекламаций"
   ]
  },
  {
   "cell_type": "code",
   "execution_count": 34,
   "id": "6cdd783e",
   "metadata": {},
   "outputs": [
    {
     "name": "stdout",
     "output_type": "stream",
     "text": [
      "Среднее число рекламаций за единицу времени:  0.17950483685850135\n"
     ]
    }
   ],
   "source": [
    "complaint_rate = 0.3\n",
    "mean_current_claims = m_all(n, p_list) - m_waiting(n, p_list)\n",
    "mean_complaint_number = mean_current_claims * (1 - p) * complaint_rate\n",
    "print('Среднее число рекламаций за единицу времени: ', mean_complaint_number)"
   ]
  },
  {
   "cell_type": "markdown",
   "id": "c7ea2f36",
   "metadata": {},
   "source": [
    "##  Моделирование СМО"
   ]
  },
  {
   "cell_type": "code",
   "execution_count": 39,
   "id": "dae9162b",
   "metadata": {},
   "outputs": [],
   "source": [
    "import random\n",
    "import numpy as np\n",
    "\n",
    "class Claim:\n",
    "    def __init__(self):\n",
    "        self.time_in_system = 0\n",
    "        self.time_in_queue = 0\n",
    "        self.time_in_processing = 0\n",
    "        self.complaint_number = 0\n",
    "        \n",
    "class Channel:\n",
    "    def __init__(self):\n",
    "        self.is_free = True\n",
    "        self.time_to_solve_remaining = 0\n",
    "\n",
    "class QueuingSystemGenerator:\n",
    "    \n",
    "    def __init__(self, n, probability, X, time_discreteness, R, size_of_probabilities):\n",
    "        self.probability = probability\n",
    "        self.n = n\n",
    "        self.channels = [Channel() for i in range(n)]\n",
    "        self.claims = []\n",
    "        self.X = X\n",
    "        self.time_step = 1 / time_discreteness\n",
    "        self.time_discreteness = time_discreteness\n",
    "        self.processedClaims = []\n",
    "        self.complaint_prob = R\n",
    "        self.size_of_probabilities = size_of_probabilities\n",
    "        self.channel_probabilities = [0 for i in range(size_of_probabilities)]\n",
    "        \n",
    "    def rand_is_claim_accepted(self):\n",
    "        return random.random() < self.probability\n",
    "    \n",
    "    def rand_claim_resolve_time(self):\n",
    "        return np.random.exponential(1 / self.X)\n",
    "        \n",
    "    def rand_new_claim_comming(self):\n",
    "        return random.random() < self.X / self.time_discreteness\n",
    "    \n",
    "    def rand_is_complaint(self):\n",
    "        return random.random() < self.complaint_prob\n",
    "        \n",
    "    def busy_channels_count(self):\n",
    "        count = 0\n",
    "        for i in range(len(self.channels)):\n",
    "            if self.channels[i].is_free == False:\n",
    "                count += 1\n",
    "        return count\n",
    "    \n",
    "    def simulate_coming_claims(self):\n",
    "        has_come = self.rand_new_claim_comming()\n",
    "        if has_come:\n",
    "            self.claims.append(Claim())\n",
    "            \n",
    "    def simulate_claim_to_free_channels(self):\n",
    "        for i in range(len(self.channels)):\n",
    "            if self.channels[i].is_free:\n",
    "                if len(self.claims) == 0:\n",
    "                    break\n",
    "                self.channels[i].solving_claim = self.claims.pop()\n",
    "                self.channels[i].is_free = False\n",
    "                self.channels[i].time_to_solve_remaining += self.rand_claim_resolve_time()\n",
    "                \n",
    "\n",
    "        \n",
    "    def simulate_process_claims(self):\n",
    "        for i in range(len(self.claims)):\n",
    "            self.claims[i].time_in_queue += self.time_step\n",
    "            \n",
    "        for i in range(len(self.channels)):\n",
    "            if self.channels[i].is_free == False:\n",
    "                claim = self.channels[i].solving_claim\n",
    "                if self.channels[i].time_to_solve_remaining > 0:\n",
    "                    self.channels[i].time_to_solve_remaining -= self.time_step\n",
    "                    claim.time_in_processing += self.time_step\n",
    "                else:\n",
    "                    self.channels[i].is_free = True\n",
    "                    self.time_to_solve_remaining = 0\n",
    "                    is_claim_accepted = self.rand_is_claim_accepted()\n",
    "                    if is_claim_accepted:\n",
    "                        self.processedClaims.append(claim)\n",
    "                    else: \n",
    "                        self.claims.append(claim)\n",
    "                        if self.rand_is_complaint():\n",
    "                            claim.complaint_number += 1\n",
    "                            \n",
    "    \n",
    "    def next_time_step(self):\n",
    "        # 1) step where claims are coming to the system\n",
    "        self.simulate_coming_claims()\n",
    "        # 2) step where claims are coming from queue to channel\n",
    "        self.simulate_claim_to_free_channels()\n",
    "        # 3) step where claims are processing in channel\n",
    "        self.simulate_process_claims()\n",
    "        \n",
    "    def run_simulation(self, time_units):\n",
    "        avg_busy_channels = 0\n",
    "        for i in range(time_units * self.time_discreteness):\n",
    "            self.next_time_step()\n",
    "            busy_channels = self.busy_channels_count()\n",
    "            avg_busy_channels = (avg_busy_channels * i + busy_channels) / ( i + 1)\n",
    "            \n",
    "            if busy_channels == n:\n",
    "                claims_in_queue = len(self.claims)\n",
    "                busy_channels += claims_in_queue\n",
    "            if busy_channels < self.size_of_probabilities:\n",
    "                self.channel_probabilities[busy_channels] += 1\n",
    "                \n",
    "        print('Среднее количество занятых каналов: ' , avg_busy_channels)\n",
    "        self.channel_probabilities = [self.channel_probabilities[i] / (time_units * self.time_discreteness) for i in range(len(self.channel_probabilities))]\n",
    "        return self.channel_probabilities"
   ]
  },
  {
   "cell_type": "code",
   "execution_count": 46,
   "id": "f52855ac",
   "metadata": {},
   "outputs": [
    {
     "name": "stdout",
     "output_type": "stream",
     "text": [
      "Среднее количество занятых каналов:  1.6808520000000018\n"
     ]
    }
   ],
   "source": [
    "X = 1\n",
    "time_discreteness = 100\n",
    "R = 0.3\n",
    "size_of_probabilities = 13\n",
    "\n",
    "generator = QueuingSystemGenerator(n, p, X, time_discreteness, R, size_of_probabilities)\n",
    "channel_probabilities = generator.run_simulation(10000)"
   ]
  },
  {
   "cell_type": "code",
   "execution_count": 47,
   "id": "252c7b26",
   "metadata": {},
   "outputs": [
    {
     "name": "stdout",
     "output_type": "stream",
     "text": [
      "[0.1859321200196753, 0.30988686669945886, 0.2582390555828824, 0.14346614199049024, 0.059777559162704254, 0.024907316317793443, 0.010378048465747268, 0.004324186860728029, 0.0018017445253033454, 0.0007507268855430606, 0.00031280286897627526, 0.0001303345287401147, 5.4306053641714454e-05]\n"
     ]
    }
   ],
   "source": [
    "print(p_list)"
   ]
  },
  {
   "cell_type": "markdown",
   "id": "81695469",
   "metadata": {},
   "source": [
    "## Вывод"
   ]
  },
  {
   "cell_type": "markdown",
   "id": "ab2789c2",
   "metadata": {},
   "source": [
    "Сравнение аналитических результатов и симуляции"
   ]
  },
  {
   "cell_type": "code",
   "execution_count": 48,
   "id": "b91de51f",
   "metadata": {},
   "outputs": [
    {
     "data": {
      "image/png": "[encoded data removed]",
      "text/plain": [
       "<Figure size 432x288 with 1 Axes>"
      ]
     },
     "metadata": {
      "needs_background": "light"
     },
     "output_type": "display_data"
    },
    {
     "data": {
      "image/png": "[encoded data removed]",
      "text/plain": [
       "<Figure size 432x288 with 1 Axes>"
      ]
     },
     "metadata": {
      "needs_background": "light"
     },
     "output_type": "display_data"
    },
    {
     "data": {
      "image/png": "[encoded data removed]",
      "text/plain": [
       "<Figure size 432x288 with 1 Axes>"
      ]
     },
     "metadata": {
      "needs_background": "light"
     },
     "output_type": "display_data"
    }
   ],
   "source": [
    "import matplotlib.pyplot as plt\n",
    "\n",
    "plt.bar(range(len(p_list)), p_list)\n",
    "plt.title('Вероятности состояния системы, полученные АНАЛИТИЧЕСКИ')\n",
    "plt.show()\n",
    "\n",
    "plt.bar(range(len(channel_probabilities)), channel_probabilities)\n",
    "plt.title('Вероятности состояния системы, полученные СИМУЛЯЦИЕЙ')\n",
    "plt.show()\n",
    "\n",
    "diff = []\n",
    "for i in range(len(p_list)):\n",
    "    diff.append(p_list[i] - channel_probabilities[i])\n",
    "plt.bar(range(len(diff)), diff)\n",
    "plt.title('diff')\n",
    "plt.show()"
   ]
  },
  {
   "cell_type": "code",
   "execution_count": null,
   "id": "506d36f8",
   "metadata": {},
   "outputs": [],
   "source": []
  }
 ],
 "metadata": {
  "kernelspec": {
   "display_name": "Python 3",
   "language": "python",
   "name": "python3"
  },
  "language_info": {
   "codemirror_mode": {
    "name": "ipython",
    "version": 3
   },
   "file_extension": ".py",
   "mimetype": "text/x-python",
   "name": "python",
   "nbconvert_exporter": "python",
   "pygments_lexer": "ipython3",
   "version": "3.8.8"
  }
 },
 "nbformat": 4,
 "nbformat_minor": 5
}
